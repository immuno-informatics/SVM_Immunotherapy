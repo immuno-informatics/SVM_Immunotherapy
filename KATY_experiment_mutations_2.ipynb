{
 "cells": [
  {
   "cell_type": "code",
   "metadata": {
    "collapsed": true,
    "pycharm": {
     "name": "#%%\n"
    },
    "ExecuteTime": {
     "end_time": "2024-11-01T22:21:39.068379Z",
     "start_time": "2024-11-01T22:21:31.215105Z"
    }
   },
   "source": [
    "import pandas as pd\n",
    "import numpy as np\n",
    "import random\n",
    "import DataSets as ds\n",
    "from imblearn.over_sampling import SMOTE\n",
    "from sklearn import svm\n",
    "from sklearn.metrics import precision_score, recall_score, f1_score, accuracy_score, roc_auc_score\n",
    "import kaplanmeier as km\n",
    "import warnings\n",
    "warnings.filterwarnings(\"ignore\")\n",
    "random.seed(1024)\n",
    "np.random.seed(1024)"
   ],
   "outputs": [],
   "execution_count": 1
  },
  {
   "cell_type": "code",
   "source": [
    "def svm_train_test(train_data, train_y, test_data, classifier_params ={}, verbose=False):\n",
    "    sm = SMOTE(random_state= 432)\n",
    "    train_data, train_y = sm.fit_resample(train_data, train_y)\n",
    "    clf = svm.SVC(kernel = classifier_params[\"kernel\"],probability=True)\n",
    "    clf = clf.fit(train_data, train_y)\n",
    "\n",
    "    predictions = clf.predict(test_data)\n",
    "    probs = clf.predict_proba(test_data)\n",
    "    probSV = [i[1] for i in probs]\n",
    "    if verbose:\n",
    "        print(probSV)\n",
    "    new_pd = pd.DataFrame(probSV)\n",
    "    return clf, predictions, new_pd\n",
    "\n",
    "def evaluate(ytest, preds, yprobs):\n",
    "    evaluations = {}\n",
    "    evaluations[\"aroc\"] = roc_auc_score(ytest, yprobs)\n",
    "    evaluations[\"precision\"] = precision_score(ytest, preds, average=\"macro\")\n",
    "    evaluations[\"recall\"] = recall_score(ytest, preds, average=\"macro\")\n",
    "    evaluations[\"f1\"] = f1_score(ytest, preds, average=\"macro\")\n",
    "    evaluations[\"precision_true\"] = precision_score(ytest, preds, average=\"binary\")\n",
    "    evaluations[\"recall_true\"] = recall_score(ytest, preds, average=\"binary\")\n",
    "    evaluations[\"f1_true\"] = f1_score(ytest, preds, average=\"binary\")\n",
    "    evaluations[\"precision_false\"] = precision_score(ytest, preds, pos_label=-1 ,average=\"binary\")\n",
    "    evaluations[\"recall_false\"] = recall_score(ytest, preds,pos_label=-1, average=\"binary\")\n",
    "    evaluations[\"f1_false\"] = f1_score(ytest, preds,pos_label= -1, average=\"binary\")\n",
    "    evaluations[\"accuracy\"] = accuracy_score(ytest, preds)\n",
    "    return evaluations\n"
   ],
   "metadata": {
    "collapsed": false,
    "pycharm": {
     "name": "#%%\n"
    },
    "ExecuteTime": {
     "end_time": "2024-11-01T22:22:01.439158Z",
     "start_time": "2024-11-01T22:22:01.388144Z"
    }
   },
   "outputs": [],
   "execution_count": 2
  },
  {
   "cell_type": "code",
   "source": [
    "def svm_experiment(additional_info={}):\n",
    "    train_data, train_y, test_data, test_y, _ , excluded_mutation = ds.transforming_Braun_dataset(additional_info)\n",
    "#    possible_svm_models = [{\"kernel\": \"linear\"},{\"kernel\":\"rbf\"},{\"kernel\":\"poly\"} ]\n",
    "    possible_svm_models = [{\"kernel\":\"poly\"} ]\n",
    "\n",
    "    local_results_frames = pd.DataFrame()\n",
    "    index = 0\n",
    "    for params in possible_svm_models:\n",
    "        results = {}\n",
    "        results[\"METHOD\"] = \"Predictor:SVM\" + str(params)\n",
    "        results[\"Info\"] = str(additional_info)\n",
    "        print(\"SVM Meta-parameters : \" + str(params))\n",
    "\n",
    "        _,svm_linear_preds, svm_linear_prob = svm_train_test(train_data, train_y, test_data, params)\n",
    "\n",
    "        results1 = evaluate(test_y, svm_linear_preds, svm_linear_prob)\n",
    "        if ds.param_check(additional_info, \"exclude_mutation\"):\n",
    "            results.update(excluded_mutation.to_dict(\"records\")[0])\n",
    "        results.update(results1)\n",
    "\n",
    "\n",
    "        results_frame = pd.DataFrame(results,index = [index])\n",
    "        if local_results_frames.empty:\n",
    "            local_results_frames = [results_frame]\n",
    "        else:\n",
    "            local_results_frames = [local_results_frames,results_frame]\n",
    "        local_results_frames = pd.concat(local_results_frames)\n",
    "        index += 1\n",
    "    return local_results_frames\n",
    "\n",
    "\n",
    "def draw_KM_curve_svm_experiment(additional_info={}, svm_params={}):\n",
    "    train_data, train_y, test_data, test_y, test_pfs = ds.transforming_Braun_dataset(additional_info)\n",
    "    print(\"SVM Meta-parameters : \" + str(svm_params))\n",
    "    print(\"Info :                \" + str(additional_info))\n",
    "    _,svm_linear_preds, svm_linear_prob = svm_train_test(train_data, train_y, test_data, svm_params)\n",
    "\n",
    "    results = km.fit(test_pfs,test_y,svm_linear_preds)\n",
    "    km.plot(results)\n",
    "    return None"
   ],
   "metadata": {
    "collapsed": false,
    "pycharm": {
     "name": "#%%\n"
    },
    "ExecuteTime": {
     "end_time": "2024-11-01T22:22:03.649620Z",
     "start_time": "2024-11-01T22:22:03.569090Z"
    }
   },
   "outputs": [],
   "execution_count": 3
  },
  {
   "cell_type": "code",
   "source": [
    "weights= {\"PS\":0.1,\"TF\":0.1,\"CF\":0.1,\"BP\":0.1,\"MT\":0.1,\"GE\":0.1}\n",
    "additional_infos = [\n",
    "#    {\"PRIMARY_TUMOR_ONLY\":False,\"with_mutations\":False,\"hotspots\":False, \"weights\":weights,\n",
    "#     \"contig_file\":\"data/contig_features_reduced2.tsv\", \"recompute\":False},\n",
    "#    {\"PRIMARY_TUMOR_ONLY\":False,\"with_mutations\":True,\"hotspots\":False, \"weights\":weights, \"contig_file\":\"data/contig_features_reduced2.tsv\"},\n",
    "#    {\"PRIMARY_TUMOR_ONLY\":False,\"with_mutations\":True, \"random_contigs\":True , \"hotspots\":True, \"weights\":weights, \"contig_file\":\"data/contig_features_reduced2.tsv\"},\n",
    "    {\"PRIMARY_TUMOR_ONLY\":False,\"with_mutations\":True, \"random_contigs\":False, \"hotspots\":False, \"weights\":weights, \"contig_file\":\"data/contig_features_reduced2.tsv\", \"HS_features\":[]}\n",
    "    ,\n",
    "    {\"PRIMARY_TUMOR_ONLY\":False,\"with_mutations\":True, \"random_contigs\":False, \"hotspots\":True, \"weights\":weights, \"contig_file\":\"data/contig_features_reduced2.tsv\", \"HS_features\":[]}\n",
    "    ,\n",
    "    {\"PRIMARY_TUMOR_ONLY\":False,\"with_mutations\":True, \"random_contigs\":False, \"hotspots\":True, \"weights\":weights, \"contig_file\":\"data/contig_features_reduced2.tsv\", \"HS_features\":[\"spec_count\"]}\n",
    "    ,\n",
    "    {\"PRIMARY_TUMOR_ONLY\":False,\"with_mutations\":True, \"random_contigs\":False, \"hotspots\":True, \"weights\":weights, \"contig_file\":\"data/contig_features_reduced2.tsv\", \"HS_features\":[\"unique_peptides\"]}\n",
    "    ,\n",
    "    {\"PRIMARY_TUMOR_ONLY\":False,\"with_mutations\":True, \"random_contigs\":False, \"hotspots\":True, \"weights\":weights, \"contig_file\":\"data/contig_features_reduced2.tsv\", \"HS_features\":[\"n_unique_HLA\"]}\n",
    "    ,\n",
    "    {\"PRIMARY_TUMOR_ONLY\":False,\"with_mutations\":True, \"random_contigs\":False, \"hotspots\":True, \"weights\":weights, \"contig_file\":\"data/contig_features_reduced2.tsv\", \"HS_features\":[\"unique_peptides\",\"spec_count\"]}\n",
    "    ,\n",
    "    {\"PRIMARY_TUMOR_ONLY\":False,\"with_mutations\":True, \"random_contigs\":False, \"hotspots\":True, \"weights\":weights, \"contig_file\":\"data/contig_features_reduced2.tsv\", \"HS_features\":[\"n_unique_HLA\",\"unique_peptides\",\"spec_count\"]}\n",
    "\n",
    "]\n",
    "\n",
    "\n",
    "overall_results = pd.DataFrame()\n",
    "\n",
    "for additional_info in additional_infos:\n",
    "    results_frame = svm_experiment(additional_info=additional_info)\n",
    "    overall_results_frames = [overall_results,results_frame]\n",
    "    overall_results = pd.concat(overall_results_frames)\n",
    "\n",
    "\n",
    "overall_results.to_excel(\"./data/Bruan_MutationExperiments_3.xlsx\")\n",
    "overall_results\n"
   ],
   "metadata": {
    "collapsed": false,
    "pycharm": {
     "name": "#%%\n"
    },
    "ExecuteTime": {
     "end_time": "2024-11-01T22:22:14.527391Z",
     "start_time": "2024-11-01T22:22:05.431814Z"
    }
   },
   "outputs": [
    {
     "name": "stdout",
     "output_type": "stream",
     "text": [
      "Loading reduced dataset\n",
      "...done\n"
     ]
    },
    {
     "name": "stderr",
     "output_type": "stream",
     "text": [
      "\n",
      "KeyboardInterrupt\n",
      "\n"
     ]
    }
   ],
   "execution_count": 4
  },
  {
   "metadata": {
    "ExecuteTime": {
     "end_time": "2024-11-01T22:25:16.007415Z",
     "start_time": "2024-11-01T22:22:18.274844Z"
    }
   },
   "cell_type": "code",
   "source": [
    "weights= {\"PS\":0.1,\"TF\":0.1,\"CF\":0.3,\"BP\":0.1,\"MT\":0.1,\"GE\":0.1}\n",
    "additional_info = {\"PRIMARY_TUMOR_ONLY\":False,\"with_mutations\":True, \"random_contigs\":False, \"hotspots\":True, \"weights\":weights, \"contig_file\":\"data/contig_features_reduced2.tsv\",\"HS_features\":[]}\n",
    "\n",
    "\n",
    "\n",
    "\n",
    "overall_results = pd.DataFrame()\n",
    "results_frame = svm_experiment(additional_info=additional_info)\n",
    "overall_results_frames = [overall_results,results_frame]\n",
    "overall_results = pd.concat(overall_results_frames)\n",
    "\n",
    "\n",
    "# Intersting Mutation\n",
    "for chr_to_remove in range(1,170):\n",
    "    print(\"excluding mutation: \" + str(chr_to_remove))\n",
    "    additional_info[\"exclude_mutation\"] = chr_to_remove\n",
    "    results_frame = svm_experiment(additional_info)\n",
    "    overall_results_frames = [overall_results,results_frame]\n",
    "    overall_results = pd.concat(overall_results_frames)\n",
    "\n",
    "\n",
    "overall_results.to_excel(\"./data/Bruan_MutationExperiments_3_1.xlsx\")\n",
    "overall_results"
   ],
   "outputs": [
    {
     "name": "stdout",
     "output_type": "stream",
     "text": [
      "Loading reduced dataset\n",
      "...done\n",
      "MinMax Scaler done\n",
      "Normalizer done\n",
      "MinMax Scaler done\n",
      "Normalizer done\n",
      "SVM Meta-parameters : {'kernel': 'poly'}\n",
      "excluding mutation: 0\n",
      "Loading reduced dataset\n",
      "...done\n",
      "MinMax Scaler done\n",
      "Normalizer done\n",
      "MinMax Scaler done\n",
      "Normalizer done\n",
      "SVM Meta-parameters : {'kernel': 'poly'}\n",
      "excluding mutation: 1\n",
      "Loading reduced dataset\n",
      "...done\n",
      "MinMax Scaler done\n",
      "Normalizer done\n",
      "MinMax Scaler done\n",
      "Normalizer done\n",
      "SVM Meta-parameters : {'kernel': 'poly'}\n"
     ]
    },
    {
     "data": {
      "text/plain": [
       "                            METHOD  \\\n",
       "0  Predictor:SVM{'kernel': 'poly'}   \n",
       "0  Predictor:SVM{'kernel': 'poly'}   \n",
       "0  Predictor:SVM{'kernel': 'poly'}   \n",
       "\n",
       "                                                Info      aroc  precision  \\\n",
       "0  {'PRIMARY_TUMOR_ONLY': False, 'with_mutations'...  0.657895   0.644737   \n",
       "0  {'PRIMARY_TUMOR_ONLY': False, 'with_mutations'...  0.657895   0.644737   \n",
       "0  {'PRIMARY_TUMOR_ONLY': False, 'with_mutations'...  0.596953   0.528963   \n",
       "\n",
       "     recall        f1  precision_true  recall_true   f1_true  precision_false  \\\n",
       "0  0.644737  0.644737        0.526316     0.526316  0.526316         0.763158   \n",
       "0  0.644737  0.644737        0.526316     0.526316  0.526316         0.763158   \n",
       "0  0.526316  0.525859        0.375000     0.315789  0.342857         0.682927   \n",
       "\n",
       "   recall_false  f1_false  accuracy Chromosome  Start_position  End_position  \\\n",
       "0      0.763158  0.763158  0.684211        NaN             NaN           NaN   \n",
       "0      0.763158  0.763158  0.684211        NaN             NaN           NaN   \n",
       "0      0.736842  0.708861  0.596491       chr5      43120013.0    43120013.0   \n",
       "\n",
       "   Count  \n",
       "0    NaN  \n",
       "0    NaN  \n",
       "0   86.0  "
      ],
      "text/html": [
       "<div>\n",
       "<style scoped>\n",
       "    .dataframe tbody tr th:only-of-type {\n",
       "        vertical-align: middle;\n",
       "    }\n",
       "\n",
       "    .dataframe tbody tr th {\n",
       "        vertical-align: top;\n",
       "    }\n",
       "\n",
       "    .dataframe thead th {\n",
       "        text-align: right;\n",
       "    }\n",
       "</style>\n",
       "<table border=\"1\" class=\"dataframe\">\n",
       "  <thead>\n",
       "    <tr style=\"text-align: right;\">\n",
       "      <th></th>\n",
       "      <th>METHOD</th>\n",
       "      <th>Info</th>\n",
       "      <th>aroc</th>\n",
       "      <th>precision</th>\n",
       "      <th>recall</th>\n",
       "      <th>f1</th>\n",
       "      <th>precision_true</th>\n",
       "      <th>recall_true</th>\n",
       "      <th>f1_true</th>\n",
       "      <th>precision_false</th>\n",
       "      <th>recall_false</th>\n",
       "      <th>f1_false</th>\n",
       "      <th>accuracy</th>\n",
       "      <th>Chromosome</th>\n",
       "      <th>Start_position</th>\n",
       "      <th>End_position</th>\n",
       "      <th>Count</th>\n",
       "    </tr>\n",
       "  </thead>\n",
       "  <tbody>\n",
       "    <tr>\n",
       "      <th>0</th>\n",
       "      <td>Predictor:SVM{'kernel': 'poly'}</td>\n",
       "      <td>{'PRIMARY_TUMOR_ONLY': False, 'with_mutations'...</td>\n",
       "      <td>0.657895</td>\n",
       "      <td>0.644737</td>\n",
       "      <td>0.644737</td>\n",
       "      <td>0.644737</td>\n",
       "      <td>0.526316</td>\n",
       "      <td>0.526316</td>\n",
       "      <td>0.526316</td>\n",
       "      <td>0.763158</td>\n",
       "      <td>0.763158</td>\n",
       "      <td>0.763158</td>\n",
       "      <td>0.684211</td>\n",
       "      <td>NaN</td>\n",
       "      <td>NaN</td>\n",
       "      <td>NaN</td>\n",
       "      <td>NaN</td>\n",
       "    </tr>\n",
       "    <tr>\n",
       "      <th>0</th>\n",
       "      <td>Predictor:SVM{'kernel': 'poly'}</td>\n",
       "      <td>{'PRIMARY_TUMOR_ONLY': False, 'with_mutations'...</td>\n",
       "      <td>0.657895</td>\n",
       "      <td>0.644737</td>\n",
       "      <td>0.644737</td>\n",
       "      <td>0.644737</td>\n",
       "      <td>0.526316</td>\n",
       "      <td>0.526316</td>\n",
       "      <td>0.526316</td>\n",
       "      <td>0.763158</td>\n",
       "      <td>0.763158</td>\n",
       "      <td>0.763158</td>\n",
       "      <td>0.684211</td>\n",
       "      <td>NaN</td>\n",
       "      <td>NaN</td>\n",
       "      <td>NaN</td>\n",
       "      <td>NaN</td>\n",
       "    </tr>\n",
       "    <tr>\n",
       "      <th>0</th>\n",
       "      <td>Predictor:SVM{'kernel': 'poly'}</td>\n",
       "      <td>{'PRIMARY_TUMOR_ONLY': False, 'with_mutations'...</td>\n",
       "      <td>0.596953</td>\n",
       "      <td>0.528963</td>\n",
       "      <td>0.526316</td>\n",
       "      <td>0.525859</td>\n",
       "      <td>0.375000</td>\n",
       "      <td>0.315789</td>\n",
       "      <td>0.342857</td>\n",
       "      <td>0.682927</td>\n",
       "      <td>0.736842</td>\n",
       "      <td>0.708861</td>\n",
       "      <td>0.596491</td>\n",
       "      <td>chr5</td>\n",
       "      <td>43120013.0</td>\n",
       "      <td>43120013.0</td>\n",
       "      <td>86.0</td>\n",
       "    </tr>\n",
       "  </tbody>\n",
       "</table>\n",
       "</div>"
      ]
     },
     "execution_count": 5,
     "metadata": {},
     "output_type": "execute_result"
    }
   ],
   "execution_count": 5
  },
  {
   "cell_type": "code",
   "execution_count": 5,
   "outputs": [
    {
     "name": "stdout",
     "output_type": "stream",
     "text": [
      "Loading reduced dataset\n",
      "...done\n",
      "MinMax Scaler done\n",
      "Normalizer done\n",
      "MinMax Scaler done\n",
      "Normalizer done\n",
      "SVM Meta-parameters : {'kernel': 'rbf'}\n",
      "Info :                {'PRIMARY_TUMOR_ONLY': False, 'with_mutations': False, 'hotspots': False, 'weights': {'PS': 0.1, 'TF': 0.1, 'CF': 0.3, 'BP': 0.1, 'MT': 0.1, 'GE': 0.1}, 'contig_file': 'data/Braun_mutations_hg38_with_epitope_contigs.tsv'}\n"
     ]
    },
    {
     "data": {
      "text/plain": "<Figure size 720x432 with 2 Axes>",
      "image/png": "[encoded data removed]"
     },
     "metadata": {
      "needs_background": "light"
     },
     "output_type": "display_data"
    }
   ],
   "source": [
    "draw_KM_curve_svm_experiment(svm_params={'kernel':'rbf'},additional_info={\"PRIMARY_TUMOR_ONLY\":False,\"with_mutations\":False,\"hotspots\":False, \"weights\":weights, \"contig_file\":\"data/Braun_mutations_hg38_with_epitope_contigs.tsv\"})"
   ],
   "metadata": {
    "collapsed": false,
    "pycharm": {
     "name": "#%%\n"
    }
   }
  },
  {
   "cell_type": "code",
   "execution_count": 10,
   "outputs": [
    {
     "name": "stdout",
     "output_type": "stream",
     "text": [
      "Loading reduced dataset\n",
      "...done\n",
      "MinMax Scaler done of the HS features\n",
      "MinMax Scaler done\n",
      "Normalizer done\n",
      "MinMax Scaler done\n",
      "Normalizer done\n",
      "SVM Meta-parameters : {'kernel': 'poly'}\n",
      "Info :                {'PRIMARY_TUMOR_ONLY': False, 'with_mutations': True, 'hotspots': True, 'weights': {'PS': 0.1, 'TF': 0.1, 'CF': 0.1, 'BP': 0.1, 'MT': 0.1, 'GE': 0.1}, 'contig_file': 'data/contig_features_reduced2.tsv', 'HS_features': ['n_unique_HLA']}\n"
     ]
    },
    {
     "data": {
      "text/plain": "<Figure size 720x432 with 2 Axes>",
      "image/png": "[encoded data removed]"
     },
     "metadata": {
      "needs_background": "light"
     },
     "output_type": "display_data"
    }
   ],
   "source": [
    "#weights = {\"PS\": 0.1, \"TF\": 0.1, \"CF\": 0.1, \"BP\": 0.1, \"MT\": 0.1, \"GE\": 0.1}\n",
    "draw_KM_curve_svm_experiment(svm_params={'kernel': 'poly'},\n",
    "                             additional_info={\"PRIMARY_TUMOR_ONLY\": False, \"with_mutations\": True, \"hotspots\": True,\n",
    "                                              \"weights\": weights, \"contig_file\":\"data/contig_features_reduced2.tsv\", \"HS_features\":[\"n_unique_HLA\"]})"
   ],
   "metadata": {
    "collapsed": false,
    "pycharm": {
     "name": "#%%\n"
    }
   }
  },
  {
   "cell_type": "code",
   "execution_count": 6,
   "outputs": [
    {
     "name": "stdout",
     "output_type": "stream",
     "text": [
      "Loading reduced dataset\n",
      "...done\n",
      "MinMax Scaler done\n",
      "Normalizer done\n",
      "MinMax Scaler done\n",
      "Normalizer done\n",
      "SVM Meta-parameters : {'kernel': 'poly'}\n",
      "Info :                {'PRIMARY_TUMOR_ONLY': False, 'with_mutations': True, 'hotspots': True, 'weights': {'PS': 0.1, 'TF': 0.1, 'CF': 0.3, 'BP': 0.1, 'MT': 0.1, 'GE': 0.1}, 'contig_file': 'data/contig_features_reduced2.tsv', 'HS_features': ['n_unique_HLA', 'unique_peptides', 'spec_count']}\n"
     ]
    },
    {
     "data": {
      "text/plain": "<Figure size 720x432 with 2 Axes>",
      "image/png": "[encoded data removed]"
     },
     "metadata": {
      "needs_background": "light"
     },
     "output_type": "display_data"
    }
   ],
   "source": [
    "draw_KM_curve_svm_experiment(svm_params={'kernel': 'poly'},\n",
    "                             additional_info={\"PRIMARY_TUMOR_ONLY\": False, \"with_mutations\": True, \"hotspots\": True,\n",
    "                                              \"weights\": weights, \"contig_file\":\"data/contig_features_reduced2.tsv\", \"HS_features\":[\"n_unique_HLA\",\"unique_peptides\",\"spec_count\"]})"
   ],
   "metadata": {
    "collapsed": false,
    "pycharm": {
     "name": "#%%\n"
    }
   }
  }
 ],
 "metadata": {
  "kernelspec": {
   "display_name": "Python 3",
   "language": "python",
   "name": "python3"
  },
  "language_info": {
   "codemirror_mode": {
    "name": "ipython",
    "version": 2
   },
   "file_extension": ".py",
   "mimetype": "text/x-python",
   "name": "python",
   "nbconvert_exporter": "python",
   "pygments_lexer": "ipython2",
   "version": "2.7.6"
  }
 },
 "nbformat": 4,
 "nbformat_minor": 0
}
